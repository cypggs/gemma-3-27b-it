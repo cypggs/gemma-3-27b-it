{
 "cells": [
  {
   "cell_type": "markdown",
   "id": "d168d459-ee6e-47d3-be82-9a792d9a1869",
   "metadata": {},
   "source": [
    "# 👉开始你的QwQ之旅👈\n",
    "<img src='running.gif' width=50% img/>\n",
    "\n",
    "## 👇运行以下单元格获取启动命令👇"
   ]
  },
  {
   "cell_type": "code",
   "execution_count": 28,
   "id": "45c2b2b6-ae27-49b9-884e-42e37ccfcdc4",
   "metadata": {},
   "outputs": [
    {
     "name": "stdout",
     "output_type": "stream",
     "text": [
      "GPU 0: 总显存 32760.00MB, 已使用 1.00MB, 空闲 32260.00MB\n",
      "⚠️⚠️⚠️服务启动一般需要5分钟⚠️⚠️⚠️\n",
      "⬇️⬇️⬇️请在终端中运行以下命令⬇️⬇️⬇️\n",
      "vllm serve /root/qwq-32b-q4_k_m.gguf --served-model-name qwq-32b --port 6006 --dtype auto --max-model-len 32768 --gpu-memory-utilization 1 --calculate-kv-scales --kv-cache-dtype fp8_e4m3\n"
     ]
    }
   ],
   "source": [
    "!python get_cmd.py"
   ]
  },
  {
   "cell_type": "markdown",
   "id": "9f47928e-650c-4acd-941b-f361ea631a17",
   "metadata": {},
   "source": [
    "## ⬆️⬆️⬆️将命令复制到终端并按回车⬆️⬆️⬆️\n",
    "<img src='step1.gif' width=50% img/>\n",
    "\n",
    "## ⏰⏰⏰耐心等待5-10分钟看到下面的页面代表加载完成⏰⏰⏰\n",
    "<img src='step2.gif' width=50% img/>\n",
    "\n",
    "## 🔥🔥🔥在终端运行以下代码测试对话（Ctrl+C退出）🔥🔥🔥"
   ]
  },
  {
   "cell_type": "raw",
   "id": "ac80f655-3935-4443-be79-e2ee2d26cadf",
   "metadata": {},
   "source": [
    "python test_chat.py"
   ]
  },
  {
   "cell_type": "markdown",
   "id": "2caa15c3-393d-47c6-bb6d-09a8def4b743",
   "metadata": {},
   "source": [
    "<img src='step3.gif' width=100% img/>"
   ]
  },
  {
   "cell_type": "markdown",
   "id": "dea0140a-5eba-4c09-93e7-a6d84cfa4e58",
   "metadata": {},
   "source": [
    "## 🧑‍💻🧑‍💻🧑‍💻你可以参考以下请求方式自行开发🧑‍💻🧑‍💻🧑‍💻"
   ]
  },
  {
   "cell_type": "code",
   "execution_count": null,
   "id": "8bc025d9-bb58-4306-8450-f726ae5f5265",
   "metadata": {},
   "outputs": [],
   "source": [
    "import requests\n",
    "import json\n",
    "import os \n",
    "\n",
    "# 替换为您的OpenAI API密钥\n",
    "API_KEY = '123'\n",
    "API_URL = 'http://127.0.0.1:6006/v1/chat/completions' #更改为你的服务地址\n",
    "\n",
    "# 请求头\n",
    "headers = {\n",
    "    'Content-Type': 'application/json',\n",
    "    'Authorization': f'Bearer {API_KEY}',\n",
    "}\n",
    "while True:\n",
    "    # 请求数据\n",
    "    data = {\n",
    "        \"model\": \"qwq-32b\",\n",
    "        \"messages\": [{\"role\": \"user\", \"content\": input(\"用户:\")}],\n",
    "        \"stream\": True,  # 启用流式\n",
    "    }\n",
    "\n",
    "    # 发送POST请求并启用流式响应\n",
    "    response = requests.post(API_URL, headers=headers, data=json.dumps(data), stream=True)\n",
    "\n",
    "    # 逐行读取并输出\n",
    "    for line in response.iter_lines():\n",
    "        if line:\n",
    "            decoded_line = line.decode('utf-8').strip()\n",
    "            if decoded_line.startswith('data: '):\n",
    "                json_str = decoded_line[6:]\n",
    "                if json_str == '[DONE]':\n",
    "                    break\n",
    "                try:\n",
    "                    json_data = json.loads(json_str)\n",
    "                    # 获取内容并输出\n",
    "                    chunk = json_data['choices'][0]['delta'].get('content', '')\n",
    "                    print(chunk, end='', flush=True)\n",
    "                except json.JSONDecodeError:\n",
    "                    continue\n",
    "    print(\"\\n\\n😎 LLM回答结束😎\")"
   ]
  }
 ],
 "metadata": {
  "kernelspec": {
   "display_name": "Python 3 (ipykernel)",
   "language": "python",
   "name": "python3"
  },
  "language_info": {
   "codemirror_mode": {
    "name": "ipython",
    "version": 3
   },
   "file_extension": ".py",
   "mimetype": "text/x-python",
   "name": "python",
   "nbconvert_exporter": "python",
   "pygments_lexer": "ipython3",
   "version": "3.10.8"
  }
 },
 "nbformat": 4,
 "nbformat_minor": 5
}
